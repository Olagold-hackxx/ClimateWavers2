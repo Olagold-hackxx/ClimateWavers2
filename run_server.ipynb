{
 "cells": [
  {
   "cell_type": "code",
   "execution_count": 1,
   "id": "b7a7790f-80ea-46a1-8954-78a41e81f209",
   "metadata": {},
   "outputs": [
    {
     "name": "stdout",
     "output_type": "stream",
     "text": [
      "{\"status\":\"OK\"}\n"
     ]
    }
   ],
   "source": [
    "!curl http://localhost:5000/api/v1/nlp/model/waverx/status"
   ]
  },
  {
   "cell_type": "code",
   "execution_count": null,
   "id": "8ef4e9f8-3074-4292-a811-17e6551e7537",
   "metadata": {},
   "outputs": [],
   "source": [
    "!curl -X POST http://localhost:5000/api/v1/nlp/model/waverx -d \"text=Earthquake here\""
   ]
  }
 ],
 "metadata": {
  "kernelspec": {
   "display_name": "Python 3 (ipykernel)",
   "language": "python",
   "name": "python3"
  },
  "language_info": {
   "codemirror_mode": {
    "name": "ipython",
    "version": 3
   },
   "file_extension": ".py",
   "mimetype": "text/x-python",
   "name": "python",
   "nbconvert_exporter": "python",
   "pygments_lexer": "ipython3",
   "version": "3.9.5"
  }
 },
 "nbformat": 4,
 "nbformat_minor": 5
}
